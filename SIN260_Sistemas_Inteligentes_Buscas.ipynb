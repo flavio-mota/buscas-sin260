{
  "cells": [
    {
      "cell_type": "markdown",
      "metadata": {
        "id": "view-in-github",
        "colab_type": "text"
      },
      "source": [
        "<a href=\"https://colab.research.google.com/github/flavio-mota/buscas-sin260/blob/main/SIN260_Sistemas_Inteligentes_Buscas.ipynb\" target=\"_parent\"><img src=\"https://colab.research.google.com/assets/colab-badge.svg\" alt=\"Open In Colab\"/></a>"
      ]
    },
    {
      "cell_type": "markdown",
      "id": "6d3203e7",
      "metadata": {
        "id": "6d3203e7"
      },
      "source": [
        "## Notebook com implementações de algoritmos de Busca\n",
        "\n",
        "Isabela Neves Drummond\n",
        "<br>Flávio Belizário da Silva Mota\n",
        "\n",
        "<hr>"
      ]
    },
    {
      "cell_type": "markdown",
      "id": "87ee401f",
      "metadata": {
        "id": "87ee401f"
      },
      "source": [
        "# Busca em Profundidade"
      ]
    },
    {
      "cell_type": "markdown",
      "source": [
        "Na estrutura criada para armazenar o grafo, o índice da lista representa o nó (índice 0 = nó 0) e o valor armazenado no índice indica a lista de adjacências do nó."
      ],
      "metadata": {
        "id": "5TG1qKL-0fed"
      },
      "id": "5TG1qKL-0fed"
    },
    {
      "cell_type": "code",
      "execution_count": null,
      "id": "41fd3075",
      "metadata": {
        "id": "41fd3075"
      },
      "outputs": [],
      "source": [
        "grafo = [ [1],           # Vizinhos do vértice 0.\n",
        "          [2, 3],        # Vizinhos do vértice 1.\n",
        "          [1, 4],        # Vizinhos do vértice 2.\n",
        "          [0],           # Vizinhos do vértice 3.\n",
        "          [1]            # Vizinhos do vértice 4.\n",
        "        ]"
      ]
    },
    {
      "cell_type": "markdown",
      "id": "0e8323bf",
      "metadata": {
        "id": "0e8323bf"
      },
      "source": [
        "<img src='https://algoritmosempython.com.br/images/algoritmos-python/algoritmos-grafos/ExemploGrafoImplicito.png'>"
      ]
    },
    {
      "cell_type": "markdown",
      "source": [
        "Implementação de busca em profundidade recursiva:"
      ],
      "metadata": {
        "id": "G46-Qwxy174G"
      },
      "id": "G46-Qwxy174G"
    },
    {
      "cell_type": "code",
      "execution_count": null,
      "id": "4a175e5f",
      "metadata": {
        "id": "4a175e5f"
      },
      "outputs": [],
      "source": [
        "def dfs(grafo, vertice):\n",
        "    visitados = set() # cria um conjunto para armazenar os vértices visitados\n",
        "\n",
        "    def dfs_recursiva(grafo, vertice):\n",
        "        visitados.add(vertice) # adiciona o vértice visitado ao conjunto de visitados\n",
        "        print('Visita vértice-> ', vertice, '/ Vizinhos não visitados-> ', [x for x in grafo[vertice] if x not in visitados])\n",
        "        for vizinho in grafo[vertice]: # para cada vértice vizinho do vértice atual\n",
        "            if vizinho not in visitados: # se o vértice vizinho não foi visitado\n",
        "                dfs_recursiva(grafo, vizinho) #se não foi, chama a função de forma recursiva para explorar o vértice\n",
        "\n",
        "    dfs_recursiva(grafo, vertice)"
      ]
    },
    {
      "cell_type": "code",
      "execution_count": null,
      "id": "6ceffbb1",
      "metadata": {
        "colab": {
          "base_uri": "https://localhost:8080/"
        },
        "id": "6ceffbb1",
        "outputId": "42638c8a-c7ca-4f5d-f5d5-2b6f3ff5fe06"
      },
      "outputs": [
        {
          "output_type": "stream",
          "name": "stdout",
          "text": [
            "Visita vértice->  0 / Vizinhos não visitados->  [1]\n",
            "Visita vértice->  1 / Vizinhos não visitados->  [2, 3]\n",
            "Visita vértice->  2 / Vizinhos não visitados->  [4]\n",
            "Visita vértice->  4 / Vizinhos não visitados->  []\n",
            "Visita vértice->  3 / Vizinhos não visitados->  []\n"
          ]
        }
      ],
      "source": [
        "dfs(grafo, 0)"
      ]
    },
    {
      "cell_type": "markdown",
      "id": "b3ebe3d9",
      "metadata": {
        "id": "b3ebe3d9"
      },
      "source": [
        "# Busca em Largura"
      ]
    },
    {
      "cell_type": "markdown",
      "source": [
        "Na estrutura criada para armazenar o grafo, o índice da lista representa o nó (índice 0 = nó 0) e o valor armazenado no índice indica a lista de adjacências do nó."
      ],
      "metadata": {
        "id": "VObKcSDv5b_J"
      },
      "id": "VObKcSDv5b_J"
    },
    {
      "cell_type": "code",
      "execution_count": null,
      "id": "78de14cb",
      "metadata": {
        "id": "78de14cb"
      },
      "outputs": [],
      "source": [
        "grafo = [ [1],           # Vizinhos do vértice 0.\n",
        "          [2, 3],        # Vizinhos do vértice 1.\n",
        "          [1, 4],        # Vizinhos do vértice 2.\n",
        "          [0],           # Vizinhos do vértice 3.\n",
        "          [1]            # Vizinhos do vértice 4.\n",
        "        ]"
      ]
    },
    {
      "cell_type": "markdown",
      "id": "0a728596",
      "metadata": {
        "id": "0a728596"
      },
      "source": [
        "<img src='https://algoritmosempython.com.br/images/algoritmos-python/algoritmos-grafos/ExemploGrafoImplicito.png'>"
      ]
    },
    {
      "cell_type": "markdown",
      "source": [
        "Implementação de busca em largura:"
      ],
      "metadata": {
        "id": "MDL-tD0M5fUM"
      },
      "id": "MDL-tD0M5fUM"
    },
    {
      "cell_type": "code",
      "execution_count": null,
      "id": "93c05115",
      "metadata": {
        "id": "93c05115"
      },
      "outputs": [],
      "source": [
        "def bfs(grafo, vertice_fonte):\n",
        "    visitados, fila = set(), [vertice_fonte] # cria o cojunto para armazenar os vértices visitados e inicializa a fila de visitação\n",
        "    while fila: # enquanto existirem vértices não visitados na fila\n",
        "        print('Fila->', fila)\n",
        "        vertice = fila.pop(0) # extrai um vértice da fila\n",
        "        if vertice not in visitados: # se o vértice não foi visitado\n",
        "            print(\"Visita vértice -> \", vertice)\n",
        "            visitados.add(vertice) # adiciona o vértice ao conjunto de visitados\n",
        "            fila.extend(x for x in grafo[vertice] if x not in visitados) # adciona os vértices vizinhos do vértice atual que ainda não foram visitados à fila"
      ]
    },
    {
      "cell_type": "code",
      "execution_count": null,
      "id": "3bdf7595",
      "metadata": {
        "colab": {
          "base_uri": "https://localhost:8080/"
        },
        "id": "3bdf7595",
        "outputId": "b0bc10b8-4114-4eaf-b927-8c9a43639f86"
      },
      "outputs": [
        {
          "output_type": "stream",
          "name": "stdout",
          "text": [
            "Fila-> [0]\n",
            "Visita vértice ->  0\n",
            "Fila-> [1]\n",
            "Visita vértice ->  1\n",
            "Fila-> [2, 3]\n",
            "Visita vértice ->  2\n",
            "Fila-> [3, 4]\n",
            "Visita vértice ->  3\n",
            "Fila-> [4]\n",
            "Visita vértice ->  4\n"
          ]
        }
      ],
      "source": [
        "bfs(grafo, 0)"
      ]
    },
    {
      "cell_type": "markdown",
      "id": "1cf86bdc",
      "metadata": {
        "id": "1cf86bdc"
      },
      "source": [
        "# Busca A*"
      ]
    },
    {
      "cell_type": "markdown",
      "source": [
        "O algoritmo A* (lê-se A estrela), utiliza uma função heurística para avaliar os nós do tipo:\n",
        "\n",
        "<br>**f(nó) = g(nó) + h(nó)**\n",
        "\n",
        "<br>onde:\n",
        "<br> g(nó) -> custo do caminho que leva ao nó atual\n",
        "<br> h(nó) -> subestimativa da distância desse nó até o nó objetivo. É uma heurística que prevê a distância desse nó até o nó objetivo.\n",
        "\n",
        "<br> Se h(nó) for sempre uma subestimativa com valores corretos, A* será ótimo pois será garantido encontrar o caminho mais curto."
      ],
      "metadata": {
        "id": "rETV89f06Tek"
      },
      "id": "rETV89f06Tek"
    },
    {
      "cell_type": "markdown",
      "source": [
        "Abaixo, uma implementação do algoritmo A* para resolver um problema de caminhada em um labirinto."
      ],
      "metadata": {
        "id": "ZmNDe96R9r_k"
      },
      "id": "ZmNDe96R9r_k"
    },
    {
      "cell_type": "code",
      "execution_count": null,
      "id": "80728773",
      "metadata": {
        "id": "80728773"
      },
      "outputs": [],
      "source": [
        "class Node():\n",
        "    \"\"\"Uma classe nó para o algoritmo A*\"\"\"\n",
        "\n",
        "    def __init__(self, parent=None, position=None):\n",
        "        self.parent = parent # nó pai\n",
        "        self.position = position # posição do nó\n",
        "\n",
        "        self.g = 0 # valor de g(nó)\n",
        "        self.h = 0 # valor de h(nó)\n",
        "        self.f = 0 # valor de f(nó)\n",
        "\n",
        "    def __eq__(self, other):\n",
        "        return self.position == other.position"
      ]
    },
    {
      "cell_type": "code",
      "execution_count": null,
      "id": "2420e9ff",
      "metadata": {
        "id": "2420e9ff"
      },
      "outputs": [],
      "source": [
        "def a_estrela(maze, start, end):\n",
        "    \"\"\"Retorna uma lista de tuplas como o caminho do nó inicial até o nó final do labirinto\"\"\"\n",
        "\n",
        "    # Cria os nós de início e fim\n",
        "    start_node = Node(None, start)\n",
        "    start_node.g = start_node.h = start_node.f = 0 # faz com que g, h e f do nó inicial sejam 0\n",
        "    end_node = Node(None, end)\n",
        "    end_node.g = end_node.h = end_node.f = 0 # faz com que g, h e f do nó final sejam 0\n",
        "\n",
        "    # Inicializa as listas 'abertos' e 'fechados'\n",
        "    open_list = []\n",
        "    closed_list = []\n",
        "\n",
        "    # Adiciona o nó inicial na lista de 'abertos'\n",
        "    open_list.append(start_node)\n",
        "\n",
        "    # Itera até encontrar o fim (a saída)\n",
        "    while len(open_list) > 0:\n",
        "\n",
        "        # Analisa o nó atual\n",
        "        current_node = open_list[0]\n",
        "        current_index = 0\n",
        "        for index, item in enumerate(open_list):\n",
        "            if item.f < current_node.f: # se encontrar algum f menor que o f do nó atual \n",
        "                current_node = item # o nó atual passa a ser o no com menor f\n",
        "                current_index = index # atualiza o index\n",
        "\n",
        "        # Remove o nó da lista de 'abertos' e adiciona a lista de 'fechados'\n",
        "        open_list.pop(current_index)\n",
        "        closed_list.append(current_node)\n",
        "\n",
        "        # Encontra o objetivo\n",
        "        if current_node == end_node: # se o nó atual for igual ao nó final\n",
        "            path = [] # cria uma lista para armazenar o caminho do nó final ao inicial\n",
        "            current = current_node\n",
        "            while current is not None:\n",
        "                path.append(current.position) \n",
        "                current = current.parent\n",
        "            return path[::-1] # Retorna o caminho invertido\n",
        "\n",
        "        # Caso ainda não tenha cheagado ao final, gera os nós filhos (soluções)\n",
        "        children = []\n",
        "        \n",
        "        for new_position in [(0, -1), (0, 1), (-1, 0), (1, 0), (-1, -1), (-1, 1), (1, -1), (1, 1)]: # novas posições possíveis\n",
        "\n",
        "            # Pega a posição do nó\n",
        "            node_position = (current_node.position[0] + new_position[0], current_node.position[1] + new_position[1])\n",
        "\n",
        "            # Verifica se a nova posição é uma posição válida (dentro do limite do labirinto) \n",
        "            if node_position[0] > (len(maze) - 1) or node_position[0] < 0 or node_position[1] > (len(maze[len(maze)-1]) -1) or node_position[1] < 0:\n",
        "                continue\n",
        "\n",
        "            # Verifica se pode caminhar ()\n",
        "            if maze[node_position[0]][node_position[1]] != 0:\n",
        "                continue\n",
        "\n",
        "            # Cria um novo nó\n",
        "            new_node = Node(current_node, node_position)\n",
        "\n",
        "            # Adiciona nos filhos\n",
        "            children.append(new_node)\n",
        "\n",
        "        # Itera através dos filhos\n",
        "        for child in children:\n",
        "\n",
        "            # Se o filho estiver na lista de 'fechados'\n",
        "            for closed_child in closed_list:\n",
        "                if child == closed_child:\n",
        "                    continue\n",
        "\n",
        "            # Cria os valores f, g e h\n",
        "            child.g = current_node.g + 1\n",
        "            child.h = ((child.position[0] - end_node.position[0]) ** 2) + ((child.position[1] - end_node.position[1]) ** 2)\n",
        "            child.f = child.g + child.h\n",
        "\n",
        "            # Se o filho já estiver na lista de 'abertos'\n",
        "            for open_node in open_list:\n",
        "                if child == open_node and child.g > open_node.g:\n",
        "                    continue\n",
        "\n",
        "            # Adiciona o filho na lista de 'abertos'\n",
        "            open_list.append(child)"
      ]
    },
    {
      "cell_type": "code",
      "execution_count": null,
      "id": "8f9eb85f",
      "metadata": {
        "id": "8f9eb85f"
      },
      "outputs": [],
      "source": [
        "# Define o labirinto (0 = caminho livre; 1 = parede)\n",
        "\n",
        "labirinto = [[0, 0, 0, 0, 1, 0, 0, 0, 0, 0],\n",
        "             [0, 0, 0, 0, 1, 0, 0, 0, 0, 0],\n",
        "             [0, 0, 0, 0, 1, 0, 0, 0, 0, 0],\n",
        "             [0, 0, 0, 0, 1, 0, 0, 0, 0, 0],\n",
        "             [0, 0, 0, 0, 1, 0, 0, 0, 0, 0],\n",
        "             [0, 0, 0, 0, 1, 0, 0, 0, 0, 0],\n",
        "             [0, 0, 0, 0, 1, 0, 0, 0, 0, 0],\n",
        "             [0, 0, 0, 0, 1, 0, 0, 0, 0, 0],\n",
        "             [0, 0, 0, 0, 1, 0, 0, 0, 0, 0],\n",
        "             [0, 0, 0, 0, 0, 0, 0, 0, 0, 0]]"
      ]
    },
    {
      "cell_type": "code",
      "execution_count": null,
      "id": "15406b02",
      "metadata": {
        "colab": {
          "base_uri": "https://localhost:8080/"
        },
        "id": "15406b02",
        "outputId": "ce07aaf4-32fb-45ce-981f-cd55e0cb2a11"
      },
      "outputs": [
        {
          "output_type": "stream",
          "name": "stdout",
          "text": [
            "[(0, 0), (1, 1), (2, 2), (3, 3), (4, 3), (5, 3), (6, 3), (7, 3), (8, 3), (9, 4), (8, 5), (8, 6), (8, 7), (8, 8)]\n"
          ]
        }
      ],
      "source": [
        "inicio = (0, 0)\n",
        "fim = (8, 8)\n",
        "\n",
        "caminho = a_estrela(labirinto, inicio, fim)\n",
        "print(caminho)"
      ]
    },
    {
      "cell_type": "markdown",
      "id": "31b2cd94",
      "metadata": {
        "id": "31b2cd94"
      },
      "source": [
        "### Fontes:\n",
        "<a href='https://algoritmosempython.com.br/cursos/algoritmos-python/algoritmos-grafos/busca-profundidade/'> Busca em Profundidade </a>\n",
        "\n",
        "<a href='https://algoritmosempython.com.br/cursos/algoritmos-python/algoritmos-grafos/busca-largura/'> Busca em Largura </a>\n",
        "\n",
        "<a href='https://medium.com/@nicholas.w.swift/easy-a-star-pathfinding-7e6689c7f7b2'> Easy A* (star) Pathfinding </a>"
      ]
    }
  ],
  "metadata": {
    "kernelspec": {
      "display_name": "Python 3",
      "language": "python",
      "name": "python3"
    },
    "language_info": {
      "codemirror_mode": {
        "name": "ipython",
        "version": 3
      },
      "file_extension": ".py",
      "mimetype": "text/x-python",
      "name": "python",
      "nbconvert_exporter": "python",
      "pygments_lexer": "ipython3",
      "version": "3.8.8"
    },
    "colab": {
      "name": "SIN260 Sistemas Inteligentes - Buscas.ipynb",
      "provenance": [],
      "include_colab_link": true
    }
  },
  "nbformat": 4,
  "nbformat_minor": 5
}